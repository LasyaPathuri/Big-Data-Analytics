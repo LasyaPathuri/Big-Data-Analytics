{
 "cells": [
  {
   "cell_type": "markdown",
   "metadata": {},
   "source": [
    "# Big Data Modelling and Analytics\n",
    "\n",
    "Analysis on White House Visitors list\n",
    "\n",
    "Dataset link - https://obamawhitehouse.archives.gov/sites/default/files/disclosures/whitehouse_waves-2016_12.csv_.zip"
   ]
  },
  {
   "cell_type": "code",
   "execution_count": 159,
   "metadata": {},
   "outputs": [],
   "source": [
    "from pyspark.sql import SparkSession\n",
    "spark = SparkSession\\\n",
    "      .builder\\\n",
    "      .appName(\"whitehouse\")\\\n",
    "      .getOrCreate()"
   ]
  },
  {
   "cell_type": "code",
   "execution_count": 160,
   "metadata": {},
   "outputs": [],
   "source": [
    "input_path = './whitehouse_waves-2016_12.csv'"
   ]
  },
  {
   "cell_type": "code",
   "execution_count": 161,
   "metadata": {},
   "outputs": [],
   "source": [
    "df = spark.read.format(\"csv\").option(\"header\",\"true\").option(\"inferSchema\", \"true\").load(input_path)"
   ]
  },
  {
   "cell_type": "code",
   "execution_count": 162,
   "metadata": {},
   "outputs": [],
   "source": [
    "neccesary_columns_df = df.select('NAMELAST','NAMEFIRST','NAMEMID','visitee_namelast','visitee_namefirst')"
   ]
  },
  {
   "cell_type": "code",
   "execution_count": 163,
   "metadata": {},
   "outputs": [],
   "source": [
    "neccesary_columns_df.createOrReplaceTempView(\"Initialrecords\")"
   ]
  },
  {
   "cell_type": "code",
   "execution_count": 164,
   "metadata": {},
   "outputs": [],
   "source": [
    "lowercase_df = spark.sql(\"select lower(NAMELAST) as NAMELAST, lower(NAMEFIRST) as NAMEFIRST, lower(NAMEMID) as NAMEMID, lower(visitee_namelast) as visitee_namelast, lower(visitee_namefirst) as visitee_namefirst from Initialrecords \")"
   ]
  },
  {
   "cell_type": "code",
   "execution_count": 165,
   "metadata": {},
   "outputs": [
    {
     "name": "stdout",
     "output_type": "stream",
     "text": [
      "+---------------+---------+-------+----------------+-----------------+\n",
      "|       NAMELAST|NAMEFIRST|NAMEMID|visitee_namelast|visitee_namefirst|\n",
      "+---------------+---------+-------+----------------+-----------------+\n",
      "|tajouribessassi|   hanene|   null|        pelofsky|             eric|\n",
      "|        bageant|    laura|      j|     baskerville|           steven|\n",
      "|       broemson|     earl|      h|     baskerville|           steven|\n",
      "|    jackling jr|  william|      c|     baskerville|           steven|\n",
      "|        mccrary|  richard|      l|     baskerville|           steven|\n",
      "|        mulcahy|   joshua|      e|     baskerville|           steven|\n",
      "|           ryan|   oliver|      j|     baskerville|           steven|\n",
      "|       smith jr|  william|      t|     baskerville|           steven|\n",
      "|         keeler|  douglas|      e|       goldstein|             jeff|\n",
      "|          davis|   justin|      a|            drew|              maj|\n",
      "|         glover|   vinson|      n|         lengyel|            jason|\n",
      "|         ambler|   andrew|      s|          office|         visitors|\n",
      "|         ambler|     john|      s|          office|         visitors|\n",
      "|       anderson|    cindy|      l|          office|         visitors|\n",
      "|       anderson|    wayne|      s|          office|         visitors|\n",
      "|        andrade|   andrea|      m|          office|         visitors|\n",
      "|        arcelle|   jeanne|      l|          office|         visitors|\n",
      "|        arcelle|     mark|   null|          office|         visitors|\n",
      "|         arnold|   curtis|   null|          office|         visitors|\n",
      "|          baade|    kraig|      d|          office|         visitors|\n",
      "+---------------+---------+-------+----------------+-----------------+\n",
      "only showing top 20 rows\n",
      "\n"
     ]
    }
   ],
   "source": [
    "lowercase_df.show()"
   ]
  },
  {
   "cell_type": "code",
   "execution_count": 166,
   "metadata": {},
   "outputs": [
    {
     "data": {
      "text/plain": [
       "970504"
      ]
     },
     "execution_count": 166,
     "metadata": {},
     "output_type": "execute_result"
    }
   ],
   "source": [
    "lowercase_df.count()"
   ]
  },
  {
   "cell_type": "markdown",
   "metadata": {},
   "source": [
    "### Filtering and Removing null and non aplha last name records"
   ]
  },
  {
   "cell_type": "code",
   "execution_count": 167,
   "metadata": {},
   "outputs": [],
   "source": [
    "noNull_df = lowercase_df.filter((f.col('visitee_namelast')!='')&(f.col('NAMELAST')!=''))"
   ]
  },
  {
   "cell_type": "code",
   "execution_count": 168,
   "metadata": {},
   "outputs": [
    {
     "data": {
      "text/plain": [
       "911249"
      ]
     },
     "execution_count": 168,
     "metadata": {},
     "output_type": "execute_result"
    }
   ],
   "source": [
    "noNull_df.count()"
   ]
  },
  {
   "cell_type": "code",
   "execution_count": 169,
   "metadata": {},
   "outputs": [],
   "source": [
    "noNull_df.createOrReplaceTempView(\"total_records\")"
   ]
  },
  {
   "cell_type": "code",
   "execution_count": 170,
   "metadata": {},
   "outputs": [],
   "source": [
    "valid_df = spark.sql(\"select * from total_records where visitee_namelast REGEXP '^[a-z]+$' and NAMELAST REGEXP '^[a-z]+$'\")"
   ]
  },
  {
   "cell_type": "code",
   "execution_count": 171,
   "metadata": {},
   "outputs": [
    {
     "data": {
      "text/plain": [
       "897037"
      ]
     },
     "execution_count": 171,
     "metadata": {},
     "output_type": "execute_result"
    }
   ],
   "source": [
    "valid_df.count()"
   ]
  },
  {
   "cell_type": "code",
   "execution_count": 172,
   "metadata": {},
   "outputs": [],
   "source": [
    "Number_of_records_before_filtering = lowercase_df.count()"
   ]
  },
  {
   "cell_type": "code",
   "execution_count": 173,
   "metadata": {},
   "outputs": [],
   "source": [
    "Number_of_records_after_filtering = valid_df.count()"
   ]
  },
  {
   "cell_type": "code",
   "execution_count": 174,
   "metadata": {},
   "outputs": [
    {
     "data": {
      "text/plain": [
       "970504"
      ]
     },
     "execution_count": 174,
     "metadata": {},
     "output_type": "execute_result"
    }
   ],
   "source": [
    "Number_of_records_before_filtering"
   ]
  },
  {
   "cell_type": "code",
   "execution_count": 175,
   "metadata": {},
   "outputs": [
    {
     "data": {
      "text/plain": [
       "897037"
      ]
     },
     "execution_count": 175,
     "metadata": {},
     "output_type": "execute_result"
    }
   ],
   "source": [
    "Number_of_records_after_filtering"
   ]
  },
  {
   "cell_type": "markdown",
   "metadata": {},
   "source": [
    "### Part 4 - The number of records dropped"
   ]
  },
  {
   "cell_type": "code",
   "execution_count": 176,
   "metadata": {},
   "outputs": [
    {
     "data": {
      "text/plain": [
       "73467"
      ]
     },
     "execution_count": 176,
     "metadata": {},
     "output_type": "execute_result"
    }
   ],
   "source": [
    "Number_of_records_before_filtering - Number_of_records_after_filtering"
   ]
  },
  {
   "cell_type": "markdown",
   "metadata": {},
   "source": [
    "### Converting to a view"
   ]
  },
  {
   "cell_type": "code",
   "execution_count": 177,
   "metadata": {},
   "outputs": [],
   "source": [
    "valid_df.createOrReplaceTempView(\"Filtered_records\")"
   ]
  },
  {
   "cell_type": "markdown",
   "metadata": {},
   "source": [
    "### Part 1 - The 10 most frequent visitors\n",
    "(NAMELAST, NAMEFIRST, NAMEMID)\n",
    "to the White House."
   ]
  },
  {
   "cell_type": "code",
   "execution_count": 178,
   "metadata": {},
   "outputs": [],
   "source": [
    "visitors = spark.sql(\"select NAMELAST,NAMEFIRST,NAMEMID, count(*) as total_visits FROM Filtered_records GROUP BY NAMELAST,NAMEFIRST,NAMEMID order by total_visits desc\")"
   ]
  },
  {
   "cell_type": "code",
   "execution_count": 179,
   "metadata": {},
   "outputs": [
    {
     "name": "stdout",
     "output_type": "stream",
     "text": [
      "+--------+---------+-------+------------+\n",
      "|NAMELAST|NAMEFIRST|NAMEMID|total_visits|\n",
      "+--------+---------+-------+------------+\n",
      "|  thomas| benjamin|      l|         185|\n",
      "|  berner|katherine|      k|         176|\n",
      "|    haas|   jordan|      m|         152|\n",
      "|   grant|  patrick|      c|         151|\n",
      "| kidwell|   lauren|      k|         145|\n",
      "|    haro|   steven|      m|         140|\n",
      "|   garza|   steven|      a|         127|\n",
      "|  strait|     elan|   null|         107|\n",
      "|     lew| shoshana|      m|         102|\n",
      "| zeitlin|   daniel|      l|          98|\n",
      "+--------+---------+-------+------------+\n",
      "only showing top 10 rows\n",
      "\n"
     ]
    }
   ],
   "source": [
    "visitors.show(10)"
   ]
  },
  {
   "cell_type": "markdown",
   "metadata": {},
   "source": [
    "### Part 2 - The 10 most frequently visited people\n",
    "(visitee_namelast, visitee_namefirst)\n",
    "in the White House."
   ]
  },
  {
   "cell_type": "code",
   "execution_count": 180,
   "metadata": {},
   "outputs": [],
   "source": [
    "visitees = spark.sql(\"select visitee_namelast,visitee_namefirst, count(*) as total_visits FROM Filtered_records GROUP BY visitee_namelast,visitee_namefirst order by total_visits desc\")"
   ]
  },
  {
   "cell_type": "code",
   "execution_count": 181,
   "metadata": {},
   "outputs": [
    {
     "name": "stdout",
     "output_type": "stream",
     "text": [
      "+----------------+-----------------+------------+\n",
      "|visitee_namelast|visitee_namefirst|total_visits|\n",
      "+----------------+-----------------+------------+\n",
      "|          office|         visitors|      430721|\n",
      "|           waves|   visitorsoffice|       44115|\n",
      "|          bryant|             ruth|       13970|\n",
      "|           oneil|           olivia|       13155|\n",
      "|        thompson|            jared|       11605|\n",
      "|          burton|           collin|        9672|\n",
      "|           megan|          matthew|        7943|\n",
      "|        mayerson|            asher|        6885|\n",
      "|      dessources|          kalisha|        5285|\n",
      "|           evans|            karen|        2908|\n",
      "+----------------+-----------------+------------+\n",
      "only showing top 10 rows\n",
      "\n"
     ]
    }
   ],
   "source": [
    "visitees.show(10)"
   ]
  },
  {
   "cell_type": "markdown",
   "metadata": {},
   "source": [
    "### Part 3 - The 10 most frequent visitor-visitee\n",
    "combinations."
   ]
  },
  {
   "cell_type": "code",
   "execution_count": 182,
   "metadata": {},
   "outputs": [],
   "source": [
    "visitor_visitee = spark.sql(\"select  NAMELAST,NAMEFIRST,NAMEMID,visitee_namelast,visitee_namefirst, count(*) as total_visits FROM Filtered_records GROUP BY  NAMELAST,NAMEFIRST,NAMEMID,visitee_namelast,visitee_namefirst order by total_visits desc\")"
   ]
  },
  {
   "cell_type": "code",
   "execution_count": 183,
   "metadata": {},
   "outputs": [
    {
     "name": "stdout",
     "output_type": "stream",
     "text": [
      "+--------+---------+-------+----------------+-----------------+------------+\n",
      "|NAMELAST|NAMEFIRST|NAMEMID|visitee_namelast|visitee_namefirst|total_visits|\n",
      "+--------+---------+-------+----------------+-----------------+------------+\n",
      "|    haas|   jordan|      m|        yudelson|             alex|          90|\n",
      "|  thomas| benjamin|      l|        yudelson|             alex|          89|\n",
      "|   grant|  patrick|      c|        yudelson|             alex|          88|\n",
      "|  berner|katherine|      k|        yudelson|             alex|          82|\n",
      "|   roche|  shannon|      e|        yudelson|             alex|          70|\n",
      "|  urizar| jennifer|      a|         johnson|            katie|          68|\n",
      "|  martin|  kathryn|   null|         lambrew|           jeanne|          56|\n",
      "| kidwell|   lauren|      k|         abraham|         yohannes|          55|\n",
      "|  berner|katherine|      k|         abraham|         yohannes|          54|\n",
      "|angerman|elizabeth|   null|           mader|            david|          54|\n",
      "+--------+---------+-------+----------------+-----------------+------------+\n",
      "only showing top 10 rows\n",
      "\n"
     ]
    }
   ],
   "source": [
    "visitor_visitee.show(10)"
   ]
  }
 ],
 "metadata": {
  "kernelspec": {
   "display_name": "Python 3",
   "language": "python",
   "name": "python3"
  },
  "language_info": {
   "codemirror_mode": {
    "name": "ipython",
    "version": 3
   },
   "file_extension": ".py",
   "mimetype": "text/x-python",
   "name": "python",
   "nbconvert_exporter": "python",
   "pygments_lexer": "ipython3",
   "version": "3.7.4"
  }
 },
 "nbformat": 4,
 "nbformat_minor": 2
}
